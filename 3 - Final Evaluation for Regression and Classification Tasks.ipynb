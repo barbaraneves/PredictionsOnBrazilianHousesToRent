{
 "cells": [
  {
   "cell_type": "markdown",
   "metadata": {
    "id": "kqdMDrN4-Tud"
   },
   "source": [
    "# Trabalho Prático 2 de Ciência de Dados \n",
    "\n",
    "### Descrição\n",
    "\n",
    "Comparação de diferentes algoritmos para criação de modelos.\n",
    "\n",
    "### Objetivos\n",
    "\n",
    "1. Buscar e utilizar algoritmos não vistos na disciplina para tarefas de Regressão e Classificação.\n",
    "2. Comparar os algoritmos escolhidos com conjuntos de dados reais utilizando métricas de avaliação vistas ou não na disciplina.\n",
    "\n",
    "### Equipe formada por\n",
    "- Bárbara Stéphanie Neves Oliveira, 507526\n",
    "- Lucas Benjamim Cunha Bandeira, 507533\n",
    "- Samir Braga Chaves, 513788\n",
    "- Vinicius Bernardo Gabriel, 475210"
   ]
  },
  {
   "cell_type": "markdown",
   "metadata": {
    "id": "Py_IpVvT-aJJ"
   },
   "source": [
    "\n",
    "# *Brazilian Houses to Rent*\n",
    "\n",
    "![Kaggle - Brazilian Houses to Rent Dataset](https://i.imgur.com/wOKxor1.pnghttps://i.imgur.com/wOKxor1.png)\n",
    "\n",
    "O dataset escolhido para realização deste trabalho trata-se do [*Brazilian Houses to Rent*](https://www.kaggle.com/rubenssjr/brasilian-houses-to-rent/code), disponível na comunidade de Ciência de Dados [*Kaggle*: *Your Home for Data Science*](https://www.kaggle.com/).\n",
    "\n",
    "Escolhemos apenas este *dataset* para a realização do trabalho por possuir *features* (atributos) que podem ser utilizadas tanto para a tafera de Regressão quanto para a tarefa de Classificação.\n",
    "\n",
    "![Kaggle - Brazilian Houses to Rent Dataset](https://drive.google.com/uc?id=1KgiGRYBMe6tiQWYOJU8vtr-zgGX6aiCj)"
   ]
  },
  {
   "cell_type": "markdown",
   "metadata": {
    "id": "eoZ4K56J-rmB"
   },
   "source": [
    "# Imports"
   ]
  },
  {
   "cell_type": "code",
   "execution_count": 1,
   "metadata": {
    "executionInfo": {
     "elapsed": 4,
     "status": "ok",
     "timestamp": 1626397342279,
     "user": {
      "displayName": "Samir Braga Chaves",
      "photoUrl": "https://lh3.googleusercontent.com/a-/AOh14GjVygv2wdXo0c9CF7F3Cexb6uLNuruAVewQW9Sohw=s64",
      "userId": "16825804541748131911"
     },
     "user_tz": 180
    },
    "id": "OZAt8pPZ9WrP"
   },
   "outputs": [],
   "source": [
    "import numpy as np \n",
    "import pandas as pd\n",
    "import matplotlib.pyplot as plt\n",
    "import seaborn as sns\n",
    "\n",
    "# Métricas de avaliação\n",
    "from sklearn.metrics import mean_squared_error, mean_absolute_error, r2_score # Regressão\n",
    "from sklearn.metrics import accuracy_score, precision_score, recall_score, f1_score, log_loss # Classificação\n",
    "from sklearn.metrics import plot_confusion_matrix # Classificação\n",
    "\n",
    "DEFAULT_FONT_SIZE = 14\n",
    "plt.rcParams['font.size'] = DEFAULT_FONT_SIZE\n",
    "\n",
    "BASE_PATH = './'\n",
    "GRIDS_BASE_DIR = BASE_PATH + '/Grid Results'\n",
    "MODELS_BASE_DIR = BASE_PATH + '/Best Models'"
   ]
  },
  {
   "cell_type": "code",
   "execution_count": 2,
   "metadata": {
    "executionInfo": {
     "elapsed": 4,
     "status": "ok",
     "timestamp": 1626397342280,
     "user": {
      "displayName": "Samir Braga Chaves",
      "photoUrl": "https://lh3.googleusercontent.com/a-/AOh14GjVygv2wdXo0c9CF7F3Cexb6uLNuruAVewQW9Sohw=s64",
      "userId": "16825804541748131911"
     },
     "user_tz": 180
    },
    "id": "wqc-wrb3newB"
   },
   "outputs": [],
   "source": [
    "# Adicionando módulos customizados ao path\n",
    "import sys\n",
    "import warnings\n",
    "warnings.filterwarnings('ignore')\n",
    "\n",
    "sys.path.append(BASE_PATH + '/Modules')\n",
    "import utils # Carregando funções utilitárias\n",
    "import models # Carregando modelos\n",
    "\n",
    "from importlib import reload"
   ]
  },
  {
   "cell_type": "markdown",
   "metadata": {
    "id": "RnOJ5OsX-0ol"
   },
   "source": [
    "# Parte 3. Comparação Final das Tarefas de Regressão e Classificação"
   ]
  },
  {
   "cell_type": "markdown",
   "metadata": {
    "id": "dshKyvzS_UFR"
   },
   "source": [
    "## Resumo da Definição dos Problemas\n",
    "\n",
    "\n",
    "\n",
    "- **Tarefa de Regressão:**\n",
    "> Predição do preço total (`total (R$)`) das casas com base nos seus atributos.\n",
    "\n",
    "- **Tarefa de Classificação:**\n",
    "> 1. Categorizar se uma casa aceita ou não animais (atributo alvo `animal`).\n",
    "  2. Categorizar se uma casa está ou não mobiliada (atributo alvo `furniture`)."
   ]
  },
  {
   "cell_type": "markdown",
   "metadata": {
    "id": "iwyT9exhfJj-"
   },
   "source": [
    "## Carregando os Melhores Modelos e os Conjuntos de Teste\n",
    "\n",
    "Na Parte 2 deste trabalho, realizamos as etapas 1, 2 e 3 das listadas na figura abaixo:\n",
    "\n",
    "<center>\n",
    "  <img width=\"800\" src=\"https://sebastianraschka.com/images/blog/2016/model-evaluation-selection-part3/kfold-selection.png\" />\n",
    "</center>\n",
    "\n",
    "A descrição detalhada da figura pode ser encontrada neste [*link*](https://sebastianraschka.com/blog/2016/model-evaluation-selection-part3.html). \n",
    "A Parte 3 consiste de realizar a etapa de número 4:\n",
    "\n",
    "4. Fazer a **comparação final** dos melhores modelos para cada uma das tarefas usando o **conjunto de teste**.\n",
    "\n",
    "Assim, iremos carregar os melhores modelos salvos de cada tarefa, como também carregar seus conjuntos de teste. Iremos mostrar os resultados de forma visual para melhor entedimento e definir o melhor modelo para cada tarefa. Ao final, estão as considerações finais de todo o trabalho. \n",
    "\n"
   ]
  },
  {
   "cell_type": "markdown",
   "metadata": {
    "id": "7ozMwqA5nAI2"
   },
   "source": [
    "### Regressão "
   ]
  },
  {
   "cell_type": "code",
   "execution_count": 3,
   "metadata": {
    "colab": {
     "base_uri": "https://localhost:8080/"
    },
    "executionInfo": {
     "elapsed": 1125,
     "status": "ok",
     "timestamp": 1626397343401,
     "user": {
      "displayName": "Samir Braga Chaves",
      "photoUrl": "https://lh3.googleusercontent.com/a-/AOh14GjVygv2wdXo0c9CF7F3Cexb6uLNuruAVewQW9Sohw=s64",
      "userId": "16825804541748131911"
     },
     "user_tz": 180
    },
    "id": "vFzMGVPXnBmQ",
    "outputId": "dbbf25bf-21cc-4ec2-e7ce-f7bbc0e8f836"
   },
   "outputs": [
    {
     "data": {
      "text/plain": [
       "((2064, 12), (2064,))"
      ]
     },
     "execution_count": 3,
     "metadata": {},
     "output_type": "execute_result"
    }
   ],
   "source": [
    "# Lendo o conjunto de teste da Regressão\n",
    "test_reg = pd.read_json(BASE_PATH + '/Dataset/test_set_regression.json')\n",
    "\n",
    "X_test_reg = np.stack(test_reg['X'].to_numpy())\n",
    "y_test_reg = np.stack(test_reg['y'].to_numpy())\n",
    "\n",
    "X_test_reg.shape, y_test_reg.shape"
   ]
  },
  {
   "cell_type": "code",
   "execution_count": 10,
   "metadata": {},
   "outputs": [
    {
     "data": {
      "text/plain": [
       "'0.24.2'"
      ]
     },
     "execution_count": 10,
     "metadata": {},
     "output_type": "execute_result"
    }
   ],
   "source": [
    "\n",
    "import sklearn\n",
    "sklearn.__version__"
   ]
  },
  {
   "cell_type": "code",
   "execution_count": 4,
   "metadata": {
    "colab": {
     "base_uri": "https://localhost:8080/"
    },
    "executionInfo": {
     "elapsed": 3396,
     "status": "ok",
     "timestamp": 1626397346794,
     "user": {
      "displayName": "Samir Braga Chaves",
      "photoUrl": "https://lh3.googleusercontent.com/a-/AOh14GjVygv2wdXo0c9CF7F3Cexb6uLNuruAVewQW9Sohw=s64",
      "userId": "16825804541748131911"
     },
     "user_tz": 180
    },
    "id": "tgm0w1E1a_Yi",
    "outputId": "b2ac675f-f7bd-4b45-a7c4-832bcd90d30b"
   },
   "outputs": [
    {
     "name": "stdout",
     "output_type": "stream",
     "text": [
      "Carregando os modelos...\n"
     ]
    },
    {
     "ename": "AttributeError",
     "evalue": "'LinearRegression' object has no attribute 'positive'",
     "output_type": "error",
     "traceback": [
      "\u001b[0;31m---------------------------------------------------------------------------\u001b[0m",
      "\u001b[0;31mAttributeError\u001b[0m                            Traceback (most recent call last)",
      "\u001b[0;32m~/miniconda2/envs/ds/lib/python3.8/site-packages/IPython/core/formatters.py\u001b[0m in \u001b[0;36m__call__\u001b[0;34m(self, obj)\u001b[0m\n\u001b[1;32m    700\u001b[0m                 \u001b[0mtype_pprinters\u001b[0m\u001b[0;34m=\u001b[0m\u001b[0mself\u001b[0m\u001b[0;34m.\u001b[0m\u001b[0mtype_printers\u001b[0m\u001b[0;34m,\u001b[0m\u001b[0;34m\u001b[0m\u001b[0;34m\u001b[0m\u001b[0m\n\u001b[1;32m    701\u001b[0m                 deferred_pprinters=self.deferred_printers)\n\u001b[0;32m--> 702\u001b[0;31m             \u001b[0mprinter\u001b[0m\u001b[0;34m.\u001b[0m\u001b[0mpretty\u001b[0m\u001b[0;34m(\u001b[0m\u001b[0mobj\u001b[0m\u001b[0;34m)\u001b[0m\u001b[0;34m\u001b[0m\u001b[0;34m\u001b[0m\u001b[0m\n\u001b[0m\u001b[1;32m    703\u001b[0m             \u001b[0mprinter\u001b[0m\u001b[0;34m.\u001b[0m\u001b[0mflush\u001b[0m\u001b[0;34m(\u001b[0m\u001b[0;34m)\u001b[0m\u001b[0;34m\u001b[0m\u001b[0;34m\u001b[0m\u001b[0m\n\u001b[1;32m    704\u001b[0m             \u001b[0;32mreturn\u001b[0m \u001b[0mstream\u001b[0m\u001b[0;34m.\u001b[0m\u001b[0mgetvalue\u001b[0m\u001b[0;34m(\u001b[0m\u001b[0;34m)\u001b[0m\u001b[0;34m\u001b[0m\u001b[0;34m\u001b[0m\u001b[0m\n",
      "\u001b[0;32m~/miniconda2/envs/ds/lib/python3.8/site-packages/IPython/lib/pretty.py\u001b[0m in \u001b[0;36mpretty\u001b[0;34m(self, obj)\u001b[0m\n\u001b[1;32m    375\u001b[0m                 \u001b[0;32mif\u001b[0m \u001b[0mcls\u001b[0m \u001b[0;32min\u001b[0m \u001b[0mself\u001b[0m\u001b[0;34m.\u001b[0m\u001b[0mtype_pprinters\u001b[0m\u001b[0;34m:\u001b[0m\u001b[0;34m\u001b[0m\u001b[0;34m\u001b[0m\u001b[0m\n\u001b[1;32m    376\u001b[0m                     \u001b[0;31m# printer registered in self.type_pprinters\u001b[0m\u001b[0;34m\u001b[0m\u001b[0;34m\u001b[0m\u001b[0;34m\u001b[0m\u001b[0m\n\u001b[0;32m--> 377\u001b[0;31m                     \u001b[0;32mreturn\u001b[0m \u001b[0mself\u001b[0m\u001b[0;34m.\u001b[0m\u001b[0mtype_pprinters\u001b[0m\u001b[0;34m[\u001b[0m\u001b[0mcls\u001b[0m\u001b[0;34m]\u001b[0m\u001b[0;34m(\u001b[0m\u001b[0mobj\u001b[0m\u001b[0;34m,\u001b[0m \u001b[0mself\u001b[0m\u001b[0;34m,\u001b[0m \u001b[0mcycle\u001b[0m\u001b[0;34m)\u001b[0m\u001b[0;34m\u001b[0m\u001b[0;34m\u001b[0m\u001b[0m\n\u001b[0m\u001b[1;32m    378\u001b[0m                 \u001b[0;32melse\u001b[0m\u001b[0;34m:\u001b[0m\u001b[0;34m\u001b[0m\u001b[0;34m\u001b[0m\u001b[0m\n\u001b[1;32m    379\u001b[0m                     \u001b[0;31m# deferred printer\u001b[0m\u001b[0;34m\u001b[0m\u001b[0;34m\u001b[0m\u001b[0;34m\u001b[0m\u001b[0m\n",
      "\u001b[0;32m~/miniconda2/envs/ds/lib/python3.8/site-packages/IPython/lib/pretty.py\u001b[0m in \u001b[0;36minner\u001b[0;34m(obj, p, cycle)\u001b[0m\n\u001b[1;32m    605\u001b[0m             \u001b[0mp\u001b[0m\u001b[0;34m.\u001b[0m\u001b[0mpretty\u001b[0m\u001b[0;34m(\u001b[0m\u001b[0mkey\u001b[0m\u001b[0;34m)\u001b[0m\u001b[0;34m\u001b[0m\u001b[0;34m\u001b[0m\u001b[0m\n\u001b[1;32m    606\u001b[0m             \u001b[0mp\u001b[0m\u001b[0;34m.\u001b[0m\u001b[0mtext\u001b[0m\u001b[0;34m(\u001b[0m\u001b[0;34m': '\u001b[0m\u001b[0;34m)\u001b[0m\u001b[0;34m\u001b[0m\u001b[0;34m\u001b[0m\u001b[0m\n\u001b[0;32m--> 607\u001b[0;31m             \u001b[0mp\u001b[0m\u001b[0;34m.\u001b[0m\u001b[0mpretty\u001b[0m\u001b[0;34m(\u001b[0m\u001b[0mobj\u001b[0m\u001b[0;34m[\u001b[0m\u001b[0mkey\u001b[0m\u001b[0;34m]\u001b[0m\u001b[0;34m)\u001b[0m\u001b[0;34m\u001b[0m\u001b[0;34m\u001b[0m\u001b[0m\n\u001b[0m\u001b[1;32m    608\u001b[0m         \u001b[0mp\u001b[0m\u001b[0;34m.\u001b[0m\u001b[0mend_group\u001b[0m\u001b[0;34m(\u001b[0m\u001b[0mstep\u001b[0m\u001b[0;34m,\u001b[0m \u001b[0mend\u001b[0m\u001b[0;34m)\u001b[0m\u001b[0;34m\u001b[0m\u001b[0;34m\u001b[0m\u001b[0m\n\u001b[1;32m    609\u001b[0m     \u001b[0;32mreturn\u001b[0m \u001b[0minner\u001b[0m\u001b[0;34m\u001b[0m\u001b[0;34m\u001b[0m\u001b[0m\n",
      "\u001b[0;32m~/miniconda2/envs/ds/lib/python3.8/site-packages/IPython/lib/pretty.py\u001b[0m in \u001b[0;36mpretty\u001b[0;34m(self, obj)\u001b[0m\n\u001b[1;32m    392\u001b[0m                         \u001b[0;32mif\u001b[0m \u001b[0mcls\u001b[0m \u001b[0;32mis\u001b[0m \u001b[0;32mnot\u001b[0m \u001b[0mobject\u001b[0m\u001b[0;31m \u001b[0m\u001b[0;31m\\\u001b[0m\u001b[0;34m\u001b[0m\u001b[0;34m\u001b[0m\u001b[0m\n\u001b[1;32m    393\u001b[0m                                 \u001b[0;32mand\u001b[0m \u001b[0mcallable\u001b[0m\u001b[0;34m(\u001b[0m\u001b[0mcls\u001b[0m\u001b[0;34m.\u001b[0m\u001b[0m__dict__\u001b[0m\u001b[0;34m.\u001b[0m\u001b[0mget\u001b[0m\u001b[0;34m(\u001b[0m\u001b[0;34m'__repr__'\u001b[0m\u001b[0;34m)\u001b[0m\u001b[0;34m)\u001b[0m\u001b[0;34m:\u001b[0m\u001b[0;34m\u001b[0m\u001b[0;34m\u001b[0m\u001b[0m\n\u001b[0;32m--> 394\u001b[0;31m                             \u001b[0;32mreturn\u001b[0m \u001b[0m_repr_pprint\u001b[0m\u001b[0;34m(\u001b[0m\u001b[0mobj\u001b[0m\u001b[0;34m,\u001b[0m \u001b[0mself\u001b[0m\u001b[0;34m,\u001b[0m \u001b[0mcycle\u001b[0m\u001b[0;34m)\u001b[0m\u001b[0;34m\u001b[0m\u001b[0;34m\u001b[0m\u001b[0m\n\u001b[0m\u001b[1;32m    395\u001b[0m \u001b[0;34m\u001b[0m\u001b[0m\n\u001b[1;32m    396\u001b[0m             \u001b[0;32mreturn\u001b[0m \u001b[0m_default_pprint\u001b[0m\u001b[0;34m(\u001b[0m\u001b[0mobj\u001b[0m\u001b[0;34m,\u001b[0m \u001b[0mself\u001b[0m\u001b[0;34m,\u001b[0m \u001b[0mcycle\u001b[0m\u001b[0;34m)\u001b[0m\u001b[0;34m\u001b[0m\u001b[0;34m\u001b[0m\u001b[0m\n",
      "\u001b[0;32m~/miniconda2/envs/ds/lib/python3.8/site-packages/IPython/lib/pretty.py\u001b[0m in \u001b[0;36m_repr_pprint\u001b[0;34m(obj, p, cycle)\u001b[0m\n\u001b[1;32m    698\u001b[0m     \u001b[0;34m\"\"\"A pprint that just redirects to the normal repr function.\"\"\"\u001b[0m\u001b[0;34m\u001b[0m\u001b[0;34m\u001b[0m\u001b[0m\n\u001b[1;32m    699\u001b[0m     \u001b[0;31m# Find newlines and replace them with p.break_()\u001b[0m\u001b[0;34m\u001b[0m\u001b[0;34m\u001b[0m\u001b[0;34m\u001b[0m\u001b[0m\n\u001b[0;32m--> 700\u001b[0;31m     \u001b[0moutput\u001b[0m \u001b[0;34m=\u001b[0m \u001b[0mrepr\u001b[0m\u001b[0;34m(\u001b[0m\u001b[0mobj\u001b[0m\u001b[0;34m)\u001b[0m\u001b[0;34m\u001b[0m\u001b[0;34m\u001b[0m\u001b[0m\n\u001b[0m\u001b[1;32m    701\u001b[0m     \u001b[0mlines\u001b[0m \u001b[0;34m=\u001b[0m \u001b[0moutput\u001b[0m\u001b[0;34m.\u001b[0m\u001b[0msplitlines\u001b[0m\u001b[0;34m(\u001b[0m\u001b[0;34m)\u001b[0m\u001b[0;34m\u001b[0m\u001b[0;34m\u001b[0m\u001b[0m\n\u001b[1;32m    702\u001b[0m     \u001b[0;32mwith\u001b[0m \u001b[0mp\u001b[0m\u001b[0;34m.\u001b[0m\u001b[0mgroup\u001b[0m\u001b[0;34m(\u001b[0m\u001b[0;34m)\u001b[0m\u001b[0;34m:\u001b[0m\u001b[0;34m\u001b[0m\u001b[0;34m\u001b[0m\u001b[0m\n",
      "\u001b[0;32m~/miniconda2/envs/ds/lib/python3.8/site-packages/sklearn/base.py\u001b[0m in \u001b[0;36m__repr__\u001b[0;34m(self, N_CHAR_MAX)\u001b[0m\n\u001b[1;32m    258\u001b[0m             n_max_elements_to_show=N_MAX_ELEMENTS_TO_SHOW)\n\u001b[1;32m    259\u001b[0m \u001b[0;34m\u001b[0m\u001b[0m\n\u001b[0;32m--> 260\u001b[0;31m         \u001b[0mrepr_\u001b[0m \u001b[0;34m=\u001b[0m \u001b[0mpp\u001b[0m\u001b[0;34m.\u001b[0m\u001b[0mpformat\u001b[0m\u001b[0;34m(\u001b[0m\u001b[0mself\u001b[0m\u001b[0;34m)\u001b[0m\u001b[0;34m\u001b[0m\u001b[0;34m\u001b[0m\u001b[0m\n\u001b[0m\u001b[1;32m    261\u001b[0m \u001b[0;34m\u001b[0m\u001b[0m\n\u001b[1;32m    262\u001b[0m         \u001b[0;31m# Use bruteforce ellipsis when there are a lot of non-blank characters\u001b[0m\u001b[0;34m\u001b[0m\u001b[0;34m\u001b[0m\u001b[0;34m\u001b[0m\u001b[0m\n",
      "\u001b[0;32m~/miniconda2/envs/ds/lib/python3.8/pprint.py\u001b[0m in \u001b[0;36mpformat\u001b[0;34m(self, object)\u001b[0m\n\u001b[1;32m    151\u001b[0m     \u001b[0;32mdef\u001b[0m \u001b[0mpformat\u001b[0m\u001b[0;34m(\u001b[0m\u001b[0mself\u001b[0m\u001b[0;34m,\u001b[0m \u001b[0mobject\u001b[0m\u001b[0;34m)\u001b[0m\u001b[0;34m:\u001b[0m\u001b[0;34m\u001b[0m\u001b[0;34m\u001b[0m\u001b[0m\n\u001b[1;32m    152\u001b[0m         \u001b[0msio\u001b[0m \u001b[0;34m=\u001b[0m \u001b[0m_StringIO\u001b[0m\u001b[0;34m(\u001b[0m\u001b[0;34m)\u001b[0m\u001b[0;34m\u001b[0m\u001b[0;34m\u001b[0m\u001b[0m\n\u001b[0;32m--> 153\u001b[0;31m         \u001b[0mself\u001b[0m\u001b[0;34m.\u001b[0m\u001b[0m_format\u001b[0m\u001b[0;34m(\u001b[0m\u001b[0mobject\u001b[0m\u001b[0;34m,\u001b[0m \u001b[0msio\u001b[0m\u001b[0;34m,\u001b[0m \u001b[0;36m0\u001b[0m\u001b[0;34m,\u001b[0m \u001b[0;36m0\u001b[0m\u001b[0;34m,\u001b[0m \u001b[0;34m{\u001b[0m\u001b[0;34m}\u001b[0m\u001b[0;34m,\u001b[0m \u001b[0;36m0\u001b[0m\u001b[0;34m)\u001b[0m\u001b[0;34m\u001b[0m\u001b[0;34m\u001b[0m\u001b[0m\n\u001b[0m\u001b[1;32m    154\u001b[0m         \u001b[0;32mreturn\u001b[0m \u001b[0msio\u001b[0m\u001b[0;34m.\u001b[0m\u001b[0mgetvalue\u001b[0m\u001b[0;34m(\u001b[0m\u001b[0;34m)\u001b[0m\u001b[0;34m\u001b[0m\u001b[0;34m\u001b[0m\u001b[0m\n\u001b[1;32m    155\u001b[0m \u001b[0;34m\u001b[0m\u001b[0m\n",
      "\u001b[0;32m~/miniconda2/envs/ds/lib/python3.8/pprint.py\u001b[0m in \u001b[0;36m_format\u001b[0;34m(self, object, stream, indent, allowance, context, level)\u001b[0m\n\u001b[1;32m    168\u001b[0m             \u001b[0mself\u001b[0m\u001b[0;34m.\u001b[0m\u001b[0m_readable\u001b[0m \u001b[0;34m=\u001b[0m \u001b[0;32mFalse\u001b[0m\u001b[0;34m\u001b[0m\u001b[0;34m\u001b[0m\u001b[0m\n\u001b[1;32m    169\u001b[0m             \u001b[0;32mreturn\u001b[0m\u001b[0;34m\u001b[0m\u001b[0;34m\u001b[0m\u001b[0m\n\u001b[0;32m--> 170\u001b[0;31m         \u001b[0mrep\u001b[0m \u001b[0;34m=\u001b[0m \u001b[0mself\u001b[0m\u001b[0;34m.\u001b[0m\u001b[0m_repr\u001b[0m\u001b[0;34m(\u001b[0m\u001b[0mobject\u001b[0m\u001b[0;34m,\u001b[0m \u001b[0mcontext\u001b[0m\u001b[0;34m,\u001b[0m \u001b[0mlevel\u001b[0m\u001b[0;34m)\u001b[0m\u001b[0;34m\u001b[0m\u001b[0;34m\u001b[0m\u001b[0m\n\u001b[0m\u001b[1;32m    171\u001b[0m         \u001b[0mmax_width\u001b[0m \u001b[0;34m=\u001b[0m \u001b[0mself\u001b[0m\u001b[0;34m.\u001b[0m\u001b[0m_width\u001b[0m \u001b[0;34m-\u001b[0m \u001b[0mindent\u001b[0m \u001b[0;34m-\u001b[0m \u001b[0mallowance\u001b[0m\u001b[0;34m\u001b[0m\u001b[0;34m\u001b[0m\u001b[0m\n\u001b[1;32m    172\u001b[0m         \u001b[0;32mif\u001b[0m \u001b[0mlen\u001b[0m\u001b[0;34m(\u001b[0m\u001b[0mrep\u001b[0m\u001b[0;34m)\u001b[0m \u001b[0;34m>\u001b[0m \u001b[0mmax_width\u001b[0m\u001b[0;34m:\u001b[0m\u001b[0;34m\u001b[0m\u001b[0;34m\u001b[0m\u001b[0m\n",
      "\u001b[0;32m~/miniconda2/envs/ds/lib/python3.8/pprint.py\u001b[0m in \u001b[0;36m_repr\u001b[0;34m(self, object, context, level)\u001b[0m\n\u001b[1;32m    402\u001b[0m \u001b[0;34m\u001b[0m\u001b[0m\n\u001b[1;32m    403\u001b[0m     \u001b[0;32mdef\u001b[0m \u001b[0m_repr\u001b[0m\u001b[0;34m(\u001b[0m\u001b[0mself\u001b[0m\u001b[0;34m,\u001b[0m \u001b[0mobject\u001b[0m\u001b[0;34m,\u001b[0m \u001b[0mcontext\u001b[0m\u001b[0;34m,\u001b[0m \u001b[0mlevel\u001b[0m\u001b[0;34m)\u001b[0m\u001b[0;34m:\u001b[0m\u001b[0;34m\u001b[0m\u001b[0;34m\u001b[0m\u001b[0m\n\u001b[0;32m--> 404\u001b[0;31m         repr, readable, recursive = self.format(object, context.copy(),\n\u001b[0m\u001b[1;32m    405\u001b[0m                                                 self._depth, level)\n\u001b[1;32m    406\u001b[0m         \u001b[0;32mif\u001b[0m \u001b[0;32mnot\u001b[0m \u001b[0mreadable\u001b[0m\u001b[0;34m:\u001b[0m\u001b[0;34m\u001b[0m\u001b[0;34m\u001b[0m\u001b[0m\n",
      "\u001b[0;32m~/miniconda2/envs/ds/lib/python3.8/site-packages/sklearn/utils/_pprint.py\u001b[0m in \u001b[0;36mformat\u001b[0;34m(self, object, context, maxlevels, level)\u001b[0m\n\u001b[1;32m    178\u001b[0m \u001b[0;34m\u001b[0m\u001b[0m\n\u001b[1;32m    179\u001b[0m     \u001b[0;32mdef\u001b[0m \u001b[0mformat\u001b[0m\u001b[0;34m(\u001b[0m\u001b[0mself\u001b[0m\u001b[0;34m,\u001b[0m \u001b[0mobject\u001b[0m\u001b[0;34m,\u001b[0m \u001b[0mcontext\u001b[0m\u001b[0;34m,\u001b[0m \u001b[0mmaxlevels\u001b[0m\u001b[0;34m,\u001b[0m \u001b[0mlevel\u001b[0m\u001b[0;34m)\u001b[0m\u001b[0;34m:\u001b[0m\u001b[0;34m\u001b[0m\u001b[0;34m\u001b[0m\u001b[0m\n\u001b[0;32m--> 180\u001b[0;31m         return _safe_repr(object, context, maxlevels, level,\n\u001b[0m\u001b[1;32m    181\u001b[0m                           changed_only=self._changed_only)\n\u001b[1;32m    182\u001b[0m \u001b[0;34m\u001b[0m\u001b[0m\n",
      "\u001b[0;32m~/miniconda2/envs/ds/lib/python3.8/site-packages/sklearn/utils/_pprint.py\u001b[0m in \u001b[0;36m_safe_repr\u001b[0;34m(object, context, maxlevels, level, changed_only)\u001b[0m\n\u001b[1;32m    423\u001b[0m         \u001b[0mrecursive\u001b[0m \u001b[0;34m=\u001b[0m \u001b[0;32mFalse\u001b[0m\u001b[0;34m\u001b[0m\u001b[0;34m\u001b[0m\u001b[0m\n\u001b[1;32m    424\u001b[0m         \u001b[0;32mif\u001b[0m \u001b[0mchanged_only\u001b[0m\u001b[0;34m:\u001b[0m\u001b[0;34m\u001b[0m\u001b[0;34m\u001b[0m\u001b[0m\n\u001b[0;32m--> 425\u001b[0;31m             \u001b[0mparams\u001b[0m \u001b[0;34m=\u001b[0m \u001b[0m_changed_params\u001b[0m\u001b[0;34m(\u001b[0m\u001b[0mobject\u001b[0m\u001b[0;34m)\u001b[0m\u001b[0;34m\u001b[0m\u001b[0;34m\u001b[0m\u001b[0m\n\u001b[0m\u001b[1;32m    426\u001b[0m         \u001b[0;32melse\u001b[0m\u001b[0;34m:\u001b[0m\u001b[0;34m\u001b[0m\u001b[0;34m\u001b[0m\u001b[0m\n\u001b[1;32m    427\u001b[0m             \u001b[0mparams\u001b[0m \u001b[0;34m=\u001b[0m \u001b[0mobject\u001b[0m\u001b[0;34m.\u001b[0m\u001b[0mget_params\u001b[0m\u001b[0;34m(\u001b[0m\u001b[0mdeep\u001b[0m\u001b[0;34m=\u001b[0m\u001b[0;32mFalse\u001b[0m\u001b[0;34m)\u001b[0m\u001b[0;34m\u001b[0m\u001b[0;34m\u001b[0m\u001b[0m\n",
      "\u001b[0;32m~/miniconda2/envs/ds/lib/python3.8/site-packages/sklearn/utils/_pprint.py\u001b[0m in \u001b[0;36m_changed_params\u001b[0;34m(estimator)\u001b[0m\n\u001b[1;32m     89\u001b[0m     estimator with non-default values.\"\"\"\n\u001b[1;32m     90\u001b[0m \u001b[0;34m\u001b[0m\u001b[0m\n\u001b[0;32m---> 91\u001b[0;31m     \u001b[0mparams\u001b[0m \u001b[0;34m=\u001b[0m \u001b[0mestimator\u001b[0m\u001b[0;34m.\u001b[0m\u001b[0mget_params\u001b[0m\u001b[0;34m(\u001b[0m\u001b[0mdeep\u001b[0m\u001b[0;34m=\u001b[0m\u001b[0;32mFalse\u001b[0m\u001b[0;34m)\u001b[0m\u001b[0;34m\u001b[0m\u001b[0;34m\u001b[0m\u001b[0m\n\u001b[0m\u001b[1;32m     92\u001b[0m     init_func = getattr(estimator.__init__, 'deprecated_original',\n\u001b[1;32m     93\u001b[0m                         estimator.__init__)\n",
      "\u001b[0;32m~/miniconda2/envs/ds/lib/python3.8/site-packages/sklearn/base.py\u001b[0m in \u001b[0;36mget_params\u001b[0;34m(self, deep)\u001b[0m\n\u001b[1;32m    193\u001b[0m         \u001b[0mout\u001b[0m \u001b[0;34m=\u001b[0m \u001b[0mdict\u001b[0m\u001b[0;34m(\u001b[0m\u001b[0;34m)\u001b[0m\u001b[0;34m\u001b[0m\u001b[0;34m\u001b[0m\u001b[0m\n\u001b[1;32m    194\u001b[0m         \u001b[0;32mfor\u001b[0m \u001b[0mkey\u001b[0m \u001b[0;32min\u001b[0m \u001b[0mself\u001b[0m\u001b[0;34m.\u001b[0m\u001b[0m_get_param_names\u001b[0m\u001b[0;34m(\u001b[0m\u001b[0;34m)\u001b[0m\u001b[0;34m:\u001b[0m\u001b[0;34m\u001b[0m\u001b[0;34m\u001b[0m\u001b[0m\n\u001b[0;32m--> 195\u001b[0;31m             \u001b[0mvalue\u001b[0m \u001b[0;34m=\u001b[0m \u001b[0mgetattr\u001b[0m\u001b[0;34m(\u001b[0m\u001b[0mself\u001b[0m\u001b[0;34m,\u001b[0m \u001b[0mkey\u001b[0m\u001b[0;34m)\u001b[0m\u001b[0;34m\u001b[0m\u001b[0;34m\u001b[0m\u001b[0m\n\u001b[0m\u001b[1;32m    196\u001b[0m             \u001b[0;32mif\u001b[0m \u001b[0mdeep\u001b[0m \u001b[0;32mand\u001b[0m \u001b[0mhasattr\u001b[0m\u001b[0;34m(\u001b[0m\u001b[0mvalue\u001b[0m\u001b[0;34m,\u001b[0m \u001b[0;34m'get_params'\u001b[0m\u001b[0;34m)\u001b[0m\u001b[0;34m:\u001b[0m\u001b[0;34m\u001b[0m\u001b[0;34m\u001b[0m\u001b[0m\n\u001b[1;32m    197\u001b[0m                 \u001b[0mdeep_items\u001b[0m \u001b[0;34m=\u001b[0m \u001b[0mvalue\u001b[0m\u001b[0;34m.\u001b[0m\u001b[0mget_params\u001b[0m\u001b[0;34m(\u001b[0m\u001b[0;34m)\u001b[0m\u001b[0;34m.\u001b[0m\u001b[0mitems\u001b[0m\u001b[0;34m(\u001b[0m\u001b[0;34m)\u001b[0m\u001b[0;34m\u001b[0m\u001b[0;34m\u001b[0m\u001b[0m\n",
      "\u001b[0;31mAttributeError\u001b[0m: 'LinearRegression' object has no attribute 'positive'"
     ]
    }
   ],
   "source": [
    "reg_models_dir = MODELS_BASE_DIR + \"/Regression\"\n",
    "\n",
    "# Carregando os modelos treinados\n",
    "best_regression_models = models.train_regression_models(needs_to_train=False, \n",
    "                                                        models_path=reg_models_dir)\n",
    "\n",
    "best_regression_models"
   ]
  },
  {
   "cell_type": "markdown",
   "metadata": {
    "id": "xGFKr7YZnw5K"
   },
   "source": [
    "### Classificação"
   ]
  },
  {
   "cell_type": "markdown",
   "metadata": {
    "id": "o3f3shIanzOU"
   },
   "source": [
    "#### Atributo Animal"
   ]
  },
  {
   "cell_type": "code",
   "execution_count": 5,
   "metadata": {
    "colab": {
     "base_uri": "https://localhost:8080/"
    },
    "executionInfo": {
     "elapsed": 492,
     "status": "ok",
     "timestamp": 1626397347283,
     "user": {
      "displayName": "Samir Braga Chaves",
      "photoUrl": "https://lh3.googleusercontent.com/a-/AOh14GjVygv2wdXo0c9CF7F3Cexb6uLNuruAVewQW9Sohw=s64",
      "userId": "16825804541748131911"
     },
     "user_tz": 180
    },
    "id": "2snM-hf7q41z",
    "outputId": "cdb7a06d-49a9-423c-89a6-53f9b2669e2f"
   },
   "outputs": [
    {
     "data": {
      "text/plain": [
       "((2064, 12), (2064,))"
      ]
     },
     "execution_count": 5,
     "metadata": {},
     "output_type": "execute_result"
    }
   ],
   "source": [
    "# Lendo o conjunto de teste da Classificação do atributo animal\n",
    "test_animal = pd.read_json(BASE_PATH + '/Dataset/test_set_classification_animal.json')\n",
    "\n",
    "X_test_animal =  np.stack(test_animal['X'].to_numpy())\n",
    "y_test_animal = test_animal['y'].to_numpy()\n",
    "\n",
    "X_test_animal.shape, y_test_animal.shape"
   ]
  },
  {
   "cell_type": "code",
   "execution_count": 6,
   "metadata": {
    "colab": {
     "base_uri": "https://localhost:8080/"
    },
    "executionInfo": {
     "elapsed": 3981,
     "status": "ok",
     "timestamp": 1626397351260,
     "user": {
      "displayName": "Samir Braga Chaves",
      "photoUrl": "https://lh3.googleusercontent.com/a-/AOh14GjVygv2wdXo0c9CF7F3Cexb6uLNuruAVewQW9Sohw=s64",
      "userId": "16825804541748131911"
     },
     "user_tz": 180
    },
    "id": "ghgNq1DlbDiq",
    "outputId": "2fce1146-534e-4942-dd49-25c55810d233"
   },
   "outputs": [
    {
     "name": "stdout",
     "output_type": "stream",
     "text": [
      "Carregando os modelos...\n"
     ]
    },
    {
     "data": {
      "text/plain": [
       "{'animal_logistic_regression': Pipeline(steps=[('scaler', StandardScaler()),\n",
       "                 ('LR',\n",
       "                  LogisticRegression(C=0.001, penalty='none',\n",
       "                                     solver='newton-cg'))]),\n",
       " 'animal_knn': Pipeline(steps=[('scaler', StandardScaler()),\n",
       "                 ('KNN',\n",
       "                  KNeighborsClassifier(metric='euclidean', n_neighbors=45))]),\n",
       " 'animal_decision_tree': DecisionTreeClassifier(),\n",
       " 'animal_naive_bayes': GaussianNB(var_smoothing=1e-07),\n",
       " 'animal_svc': Pipeline(steps=[('scaler', StandardScaler()),\n",
       "                 ('SVC',\n",
       "                  BaggingClassifier(base_estimator=SVC(C=10),\n",
       "                                    max_samples=0.06666666666666667,\n",
       "                                    n_estimators=15))])}"
      ]
     },
     "execution_count": 6,
     "metadata": {},
     "output_type": "execute_result"
    }
   ],
   "source": [
    "classif_animal_models_dir = MODELS_BASE_DIR + \"/Classification/Animal\"\n",
    "\n",
    "# Carregando os modelos treinados\n",
    "best_classification_animal_models = models.train_classification_models(needs_to_train=False,\n",
    "                                                                       models_path=classif_animal_models_dir)\n",
    "\n",
    "best_classification_animal_models"
   ]
  },
  {
   "cell_type": "markdown",
   "metadata": {
    "id": "DGfJbGFwrJ6G"
   },
   "source": [
    "#### Atributo Furniture"
   ]
  },
  {
   "cell_type": "code",
   "execution_count": 7,
   "metadata": {
    "colab": {
     "base_uri": "https://localhost:8080/"
    },
    "executionInfo": {
     "elapsed": 486,
     "status": "ok",
     "timestamp": 1626397351736,
     "user": {
      "displayName": "Samir Braga Chaves",
      "photoUrl": "https://lh3.googleusercontent.com/a-/AOh14GjVygv2wdXo0c9CF7F3Cexb6uLNuruAVewQW9Sohw=s64",
      "userId": "16825804541748131911"
     },
     "user_tz": 180
    },
    "id": "RbT1HtfMrMr6",
    "outputId": "d6c2acec-9c1b-478d-8b34-e2830d618e1e"
   },
   "outputs": [
    {
     "data": {
      "text/plain": [
       "((2064, 12), (2064,))"
      ]
     },
     "execution_count": 7,
     "metadata": {},
     "output_type": "execute_result"
    }
   ],
   "source": [
    "# Lendo o conjunto de teste da Classificação do atributo furniture\n",
    "test_furniture = pd.read_json(BASE_PATH + '/Dataset/test_set_classification_furniture.json')\n",
    "\n",
    "X_test_furniture =  np.stack(test_furniture['X'].to_numpy())\n",
    "y_test_furniture = test_furniture['y'].to_numpy()\n",
    "\n",
    "X_test_furniture.shape, y_test_furniture.shape"
   ]
  },
  {
   "cell_type": "code",
   "execution_count": 8,
   "metadata": {
    "colab": {
     "base_uri": "https://localhost:8080/"
    },
    "executionInfo": {
     "elapsed": 1721,
     "status": "ok",
     "timestamp": 1626397353454,
     "user": {
      "displayName": "Samir Braga Chaves",
      "photoUrl": "https://lh3.googleusercontent.com/a-/AOh14GjVygv2wdXo0c9CF7F3Cexb6uLNuruAVewQW9Sohw=s64",
      "userId": "16825804541748131911"
     },
     "user_tz": 180
    },
    "id": "5aO6ZlRcxAUe",
    "outputId": "7d398c20-1f2a-4d3f-c6f1-6901274c055f"
   },
   "outputs": [
    {
     "name": "stdout",
     "output_type": "stream",
     "text": [
      "Carregando os modelos...\n"
     ]
    },
    {
     "data": {
      "text/plain": [
       "{'furniture_decision_tree': DecisionTreeClassifier(),\n",
       " 'furniture_logistic_regression': Pipeline(steps=[('scaler', StandardScaler()),\n",
       "                 ('LR',\n",
       "                  LogisticRegression(C=0.001, penalty='none',\n",
       "                                     solver='newton-cg'))]),\n",
       " 'furniture_knn': Pipeline(steps=[('scaler', StandardScaler()),\n",
       "                 ('KNN',\n",
       "                  KNeighborsClassifier(metric='chebyshev', weights='distance'))]),\n",
       " 'furniture_naive_bayes': GaussianNB(var_smoothing=1e-11),\n",
       " 'furniture_svc': Pipeline(steps=[('scaler', StandardScaler()),\n",
       "                 ('SVC',\n",
       "                  BaggingClassifier(base_estimator=SVC(C=100),\n",
       "                                    max_samples=0.06666666666666667,\n",
       "                                    n_estimators=15))])}"
      ]
     },
     "execution_count": 8,
     "metadata": {},
     "output_type": "execute_result"
    }
   ],
   "source": [
    "classif_furniture_models_dir = MODELS_BASE_DIR + \"/Classification/Furniture\"\n",
    "\n",
    "# Carregando os modelos treinados\n",
    "best_classification_furniture_models = models.train_classification_models(needs_to_train=False,\n",
    "                                                                       models_path=classif_furniture_models_dir)\n",
    "\n",
    "best_classification_furniture_models"
   ]
  },
  {
   "cell_type": "markdown",
   "metadata": {
    "id": "stYgn84-gfO0"
   },
   "source": [
    "## Comparação dos Melhores Modelos "
   ]
  },
  {
   "cell_type": "markdown",
   "metadata": {
    "id": "zIgfQextgoh7"
   },
   "source": [
    "### Regressão"
   ]
  },
  {
   "cell_type": "code",
   "execution_count": 9,
   "metadata": {
    "colab": {
     "base_uri": "https://localhost:8080/",
     "height": 938
    },
    "executionInfo": {
     "elapsed": 1393,
     "status": "ok",
     "timestamp": 1626397354844,
     "user": {
      "displayName": "Samir Braga Chaves",
      "photoUrl": "https://lh3.googleusercontent.com/a-/AOh14GjVygv2wdXo0c9CF7F3Cexb6uLNuruAVewQW9Sohw=s64",
      "userId": "16825804541748131911"
     },
     "user_tz": 180
    },
    "id": "Vy7mW2LWRnPs",
    "outputId": "b85a9617-cb73-4c40-e881-90faa4bf4e5b"
   },
   "outputs": [
    {
     "ename": "AttributeError",
     "evalue": "'SVR' object has no attribute '_probA'",
     "output_type": "error",
     "traceback": [
      "\u001b[0;31m---------------------------------------------------------------------------\u001b[0m",
      "\u001b[0;31mAttributeError\u001b[0m                            Traceback (most recent call last)",
      "\u001b[0;32m<ipython-input-9-ec4587b21185>\u001b[0m in \u001b[0;36m<module>\u001b[0;34m\u001b[0m\n\u001b[0;32m----> 1\u001b[0;31m regression_scores = utils.compute_scores_best_models(X_test_reg,\n\u001b[0m\u001b[1;32m      2\u001b[0m                                                \u001b[0my_test_reg\u001b[0m\u001b[0;34m,\u001b[0m\u001b[0;34m\u001b[0m\u001b[0;34m\u001b[0m\u001b[0m\n\u001b[1;32m      3\u001b[0m                                                \u001b[0mbest_regression_models\u001b[0m\u001b[0;34m,\u001b[0m\u001b[0;34m\u001b[0m\u001b[0;34m\u001b[0m\u001b[0m\n\u001b[1;32m      4\u001b[0m                                                \u001b[0mmetrics\u001b[0m\u001b[0;34m=\u001b[0m\u001b[0;34m[\u001b[0m\u001b[0mmean_absolute_error\u001b[0m\u001b[0;34m,\u001b[0m \u001b[0mr2_score\u001b[0m\u001b[0;34m,\u001b[0m \u001b[0mmean_squared_error\u001b[0m\u001b[0;34m,\u001b[0m \u001b[0mutils\u001b[0m\u001b[0;34m.\u001b[0m\u001b[0mrmse\u001b[0m\u001b[0;34m]\u001b[0m\u001b[0;34m,\u001b[0m\u001b[0;34m\u001b[0m\u001b[0;34m\u001b[0m\u001b[0m\n\u001b[1;32m      5\u001b[0m                                                metric_names=['mae', 'r2', 'mse', 'rmse'])\n",
      "\u001b[0;32m~/Documents/atividades/ds/PredictionsOnBrazilianHousesToRent/.//Modules/utils.py\u001b[0m in \u001b[0;36mcompute_scores_best_models\u001b[0;34m(X_test, y_test, best_models, metrics, metric_names)\u001b[0m\n\u001b[1;32m    179\u001b[0m     \u001b[0;32mfor\u001b[0m \u001b[0mmodel\u001b[0m \u001b[0;32min\u001b[0m \u001b[0mbest_models\u001b[0m\u001b[0;34m:\u001b[0m\u001b[0;34m\u001b[0m\u001b[0;34m\u001b[0m\u001b[0m\n\u001b[1;32m    180\u001b[0m         \u001b[0mmodel_instance\u001b[0m \u001b[0;34m=\u001b[0m \u001b[0mbest_models\u001b[0m\u001b[0;34m[\u001b[0m\u001b[0mmodel\u001b[0m\u001b[0;34m]\u001b[0m\u001b[0;34m\u001b[0m\u001b[0;34m\u001b[0m\u001b[0m\n\u001b[0;32m--> 181\u001b[0;31m         \u001b[0my_pred\u001b[0m \u001b[0;34m=\u001b[0m \u001b[0mmodel_instance\u001b[0m\u001b[0;34m.\u001b[0m\u001b[0mpredict\u001b[0m\u001b[0;34m(\u001b[0m\u001b[0mX_test\u001b[0m\u001b[0;34m)\u001b[0m\u001b[0;34m\u001b[0m\u001b[0;34m\u001b[0m\u001b[0m\n\u001b[0m\u001b[1;32m    182\u001b[0m \u001b[0;34m\u001b[0m\u001b[0m\n\u001b[1;32m    183\u001b[0m         \u001b[0mscores\u001b[0m \u001b[0;34m=\u001b[0m \u001b[0;34m{\u001b[0m\u001b[0mk\u001b[0m\u001b[0;34m:\u001b[0m \u001b[0mv\u001b[0m\u001b[0;34m(\u001b[0m\u001b[0my_test\u001b[0m\u001b[0;34m,\u001b[0m \u001b[0my_pred\u001b[0m\u001b[0;34m)\u001b[0m \u001b[0;32mfor\u001b[0m \u001b[0mk\u001b[0m\u001b[0;34m,\u001b[0m \u001b[0mv\u001b[0m \u001b[0;32min\u001b[0m \u001b[0mzip\u001b[0m\u001b[0;34m(\u001b[0m\u001b[0mmetric_names\u001b[0m\u001b[0;34m,\u001b[0m \u001b[0mmetrics\u001b[0m\u001b[0;34m)\u001b[0m\u001b[0;34m}\u001b[0m\u001b[0;34m\u001b[0m\u001b[0;34m\u001b[0m\u001b[0m\n",
      "\u001b[0;32m~/miniconda2/envs/ds/lib/python3.8/site-packages/sklearn/utils/metaestimators.py\u001b[0m in \u001b[0;36m<lambda>\u001b[0;34m(*args, **kwargs)\u001b[0m\n\u001b[1;32m    118\u001b[0m \u001b[0;34m\u001b[0m\u001b[0m\n\u001b[1;32m    119\u001b[0m         \u001b[0;31m# lambda, but not partial, allows help() to work with update_wrapper\u001b[0m\u001b[0;34m\u001b[0m\u001b[0;34m\u001b[0m\u001b[0;34m\u001b[0m\u001b[0m\n\u001b[0;32m--> 120\u001b[0;31m         \u001b[0mout\u001b[0m \u001b[0;34m=\u001b[0m \u001b[0;32mlambda\u001b[0m \u001b[0;34m*\u001b[0m\u001b[0margs\u001b[0m\u001b[0;34m,\u001b[0m \u001b[0;34m**\u001b[0m\u001b[0mkwargs\u001b[0m\u001b[0;34m:\u001b[0m \u001b[0mself\u001b[0m\u001b[0;34m.\u001b[0m\u001b[0mfn\u001b[0m\u001b[0;34m(\u001b[0m\u001b[0mobj\u001b[0m\u001b[0;34m,\u001b[0m \u001b[0;34m*\u001b[0m\u001b[0margs\u001b[0m\u001b[0;34m,\u001b[0m \u001b[0;34m**\u001b[0m\u001b[0mkwargs\u001b[0m\u001b[0;34m)\u001b[0m\u001b[0;34m\u001b[0m\u001b[0;34m\u001b[0m\u001b[0m\n\u001b[0m\u001b[1;32m    121\u001b[0m         \u001b[0;31m# update the docstring of the returned function\u001b[0m\u001b[0;34m\u001b[0m\u001b[0;34m\u001b[0m\u001b[0;34m\u001b[0m\u001b[0m\n\u001b[1;32m    122\u001b[0m         \u001b[0mupdate_wrapper\u001b[0m\u001b[0;34m(\u001b[0m\u001b[0mout\u001b[0m\u001b[0;34m,\u001b[0m \u001b[0mself\u001b[0m\u001b[0;34m.\u001b[0m\u001b[0mfn\u001b[0m\u001b[0;34m)\u001b[0m\u001b[0;34m\u001b[0m\u001b[0;34m\u001b[0m\u001b[0m\n",
      "\u001b[0;32m~/miniconda2/envs/ds/lib/python3.8/site-packages/sklearn/pipeline.py\u001b[0m in \u001b[0;36mpredict\u001b[0;34m(self, X, **predict_params)\u001b[0m\n\u001b[1;32m    417\u001b[0m         \u001b[0;32mfor\u001b[0m \u001b[0m_\u001b[0m\u001b[0;34m,\u001b[0m \u001b[0mname\u001b[0m\u001b[0;34m,\u001b[0m \u001b[0mtransform\u001b[0m \u001b[0;32min\u001b[0m \u001b[0mself\u001b[0m\u001b[0;34m.\u001b[0m\u001b[0m_iter\u001b[0m\u001b[0;34m(\u001b[0m\u001b[0mwith_final\u001b[0m\u001b[0;34m=\u001b[0m\u001b[0;32mFalse\u001b[0m\u001b[0;34m)\u001b[0m\u001b[0;34m:\u001b[0m\u001b[0;34m\u001b[0m\u001b[0;34m\u001b[0m\u001b[0m\n\u001b[1;32m    418\u001b[0m             \u001b[0mXt\u001b[0m \u001b[0;34m=\u001b[0m \u001b[0mtransform\u001b[0m\u001b[0;34m.\u001b[0m\u001b[0mtransform\u001b[0m\u001b[0;34m(\u001b[0m\u001b[0mXt\u001b[0m\u001b[0;34m)\u001b[0m\u001b[0;34m\u001b[0m\u001b[0;34m\u001b[0m\u001b[0m\n\u001b[0;32m--> 419\u001b[0;31m         \u001b[0;32mreturn\u001b[0m \u001b[0mself\u001b[0m\u001b[0;34m.\u001b[0m\u001b[0msteps\u001b[0m\u001b[0;34m[\u001b[0m\u001b[0;34m-\u001b[0m\u001b[0;36m1\u001b[0m\u001b[0;34m]\u001b[0m\u001b[0;34m[\u001b[0m\u001b[0;34m-\u001b[0m\u001b[0;36m1\u001b[0m\u001b[0;34m]\u001b[0m\u001b[0;34m.\u001b[0m\u001b[0mpredict\u001b[0m\u001b[0;34m(\u001b[0m\u001b[0mXt\u001b[0m\u001b[0;34m,\u001b[0m \u001b[0;34m**\u001b[0m\u001b[0mpredict_params\u001b[0m\u001b[0;34m)\u001b[0m\u001b[0;34m\u001b[0m\u001b[0;34m\u001b[0m\u001b[0m\n\u001b[0m\u001b[1;32m    420\u001b[0m \u001b[0;34m\u001b[0m\u001b[0m\n\u001b[1;32m    421\u001b[0m     \u001b[0;34m@\u001b[0m\u001b[0mif_delegate_has_method\u001b[0m\u001b[0;34m(\u001b[0m\u001b[0mdelegate\u001b[0m\u001b[0;34m=\u001b[0m\u001b[0;34m'_final_estimator'\u001b[0m\u001b[0;34m)\u001b[0m\u001b[0;34m\u001b[0m\u001b[0;34m\u001b[0m\u001b[0m\n",
      "\u001b[0;32m~/miniconda2/envs/ds/lib/python3.8/site-packages/sklearn/svm/_base.py\u001b[0m in \u001b[0;36mpredict\u001b[0;34m(self, X)\u001b[0m\n\u001b[1;32m    342\u001b[0m         \u001b[0mX\u001b[0m \u001b[0;34m=\u001b[0m \u001b[0mself\u001b[0m\u001b[0;34m.\u001b[0m\u001b[0m_validate_for_predict\u001b[0m\u001b[0;34m(\u001b[0m\u001b[0mX\u001b[0m\u001b[0;34m)\u001b[0m\u001b[0;34m\u001b[0m\u001b[0;34m\u001b[0m\u001b[0m\n\u001b[1;32m    343\u001b[0m         \u001b[0mpredict\u001b[0m \u001b[0;34m=\u001b[0m \u001b[0mself\u001b[0m\u001b[0;34m.\u001b[0m\u001b[0m_sparse_predict\u001b[0m \u001b[0;32mif\u001b[0m \u001b[0mself\u001b[0m\u001b[0;34m.\u001b[0m\u001b[0m_sparse\u001b[0m \u001b[0;32melse\u001b[0m \u001b[0mself\u001b[0m\u001b[0;34m.\u001b[0m\u001b[0m_dense_predict\u001b[0m\u001b[0;34m\u001b[0m\u001b[0;34m\u001b[0m\u001b[0m\n\u001b[0;32m--> 344\u001b[0;31m         \u001b[0;32mreturn\u001b[0m \u001b[0mpredict\u001b[0m\u001b[0;34m(\u001b[0m\u001b[0mX\u001b[0m\u001b[0;34m)\u001b[0m\u001b[0;34m\u001b[0m\u001b[0;34m\u001b[0m\u001b[0m\n\u001b[0m\u001b[1;32m    345\u001b[0m \u001b[0;34m\u001b[0m\u001b[0m\n\u001b[1;32m    346\u001b[0m     \u001b[0;32mdef\u001b[0m \u001b[0m_dense_predict\u001b[0m\u001b[0;34m(\u001b[0m\u001b[0mself\u001b[0m\u001b[0;34m,\u001b[0m \u001b[0mX\u001b[0m\u001b[0;34m)\u001b[0m\u001b[0;34m:\u001b[0m\u001b[0;34m\u001b[0m\u001b[0;34m\u001b[0m\u001b[0m\n",
      "\u001b[0;32m~/miniconda2/envs/ds/lib/python3.8/site-packages/sklearn/svm/_base.py\u001b[0m in \u001b[0;36m_dense_predict\u001b[0;34m(self, X)\u001b[0m\n\u001b[1;32m    362\u001b[0m             \u001b[0mX\u001b[0m\u001b[0;34m,\u001b[0m \u001b[0mself\u001b[0m\u001b[0;34m.\u001b[0m\u001b[0msupport_\u001b[0m\u001b[0;34m,\u001b[0m \u001b[0mself\u001b[0m\u001b[0;34m.\u001b[0m\u001b[0msupport_vectors_\u001b[0m\u001b[0;34m,\u001b[0m \u001b[0mself\u001b[0m\u001b[0;34m.\u001b[0m\u001b[0m_n_support\u001b[0m\u001b[0;34m,\u001b[0m\u001b[0;34m\u001b[0m\u001b[0;34m\u001b[0m\u001b[0m\n\u001b[1;32m    363\u001b[0m             \u001b[0mself\u001b[0m\u001b[0;34m.\u001b[0m\u001b[0m_dual_coef_\u001b[0m\u001b[0;34m,\u001b[0m \u001b[0mself\u001b[0m\u001b[0;34m.\u001b[0m\u001b[0m_intercept_\u001b[0m\u001b[0;34m,\u001b[0m\u001b[0;34m\u001b[0m\u001b[0;34m\u001b[0m\u001b[0m\n\u001b[0;32m--> 364\u001b[0;31m             \u001b[0mself\u001b[0m\u001b[0;34m.\u001b[0m\u001b[0m_probA\u001b[0m\u001b[0;34m,\u001b[0m \u001b[0mself\u001b[0m\u001b[0;34m.\u001b[0m\u001b[0m_probB\u001b[0m\u001b[0;34m,\u001b[0m \u001b[0msvm_type\u001b[0m\u001b[0;34m=\u001b[0m\u001b[0msvm_type\u001b[0m\u001b[0;34m,\u001b[0m \u001b[0mkernel\u001b[0m\u001b[0;34m=\u001b[0m\u001b[0mkernel\u001b[0m\u001b[0;34m,\u001b[0m\u001b[0;34m\u001b[0m\u001b[0;34m\u001b[0m\u001b[0m\n\u001b[0m\u001b[1;32m    365\u001b[0m             \u001b[0mdegree\u001b[0m\u001b[0;34m=\u001b[0m\u001b[0mself\u001b[0m\u001b[0;34m.\u001b[0m\u001b[0mdegree\u001b[0m\u001b[0;34m,\u001b[0m \u001b[0mcoef0\u001b[0m\u001b[0;34m=\u001b[0m\u001b[0mself\u001b[0m\u001b[0;34m.\u001b[0m\u001b[0mcoef0\u001b[0m\u001b[0;34m,\u001b[0m \u001b[0mgamma\u001b[0m\u001b[0;34m=\u001b[0m\u001b[0mself\u001b[0m\u001b[0;34m.\u001b[0m\u001b[0m_gamma\u001b[0m\u001b[0;34m,\u001b[0m\u001b[0;34m\u001b[0m\u001b[0;34m\u001b[0m\u001b[0m\n\u001b[1;32m    366\u001b[0m             cache_size=self.cache_size)\n",
      "\u001b[0;31mAttributeError\u001b[0m: 'SVR' object has no attribute '_probA'"
     ]
    }
   ],
   "source": [
    "regression_scores = utils.compute_scores_best_models(X_test_reg,\n",
    "                                               y_test_reg, \n",
    "                                               best_regression_models, \n",
    "                                               metrics=[mean_absolute_error, r2_score, mean_squared_error, utils.rmse],\n",
    "                                               metric_names=['mae', 'r2', 'mse', 'rmse'])\n",
    "score_data = pd.DataFrame(regression_scores).T\n",
    "score_data.reset_index(inplace=True)\n",
    "score_data.rename(columns={\n",
    "    'index': 'Model',\n",
    "    'mae': 'MAE',\n",
    "    'r2': 'R2', \n",
    "    'mse': 'MSE',\n",
    "    'rmse': 'RMSE'\n",
    "}, inplace=True)\n",
    "\n",
    "cols = list(score_data.columns[1:])\n",
    "\n",
    "fig, axs = plt.subplots(2, 2, figsize=(20, 14))\n",
    "for index, ax in enumerate(axs.flat):\n",
    "  sns.barplot(ax=ax, x='Model', y=cols[index], data=score_data, palette='RdBu_r')\n",
    "  ax.set_title(cols[index])\n",
    "  ax.set_ylabel('Scores')\n",
    "\n",
    "fig.tight_layout()\n",
    "plt.show()"
   ]
  },
  {
   "cell_type": "markdown",
   "metadata": {
    "id": "cXoY0QXBM0tN"
   },
   "source": [
    "- **Gráficos de densidade:**\n",
    "\n",
    "Visto que a média dos erros, aplicada em todas as métricas, poderia estar sendo afetada por valores grandes de erros de poucos padrões, buscamos analisar o gráfico de densidade dos erros. Com eles, podemos perceber que apesar da média dos erros ser relativamente alta, a grande maioria das predições apresentam erros baixos. Esse comportamento se repete em todos os 4 modelos."
   ]
  },
  {
   "cell_type": "code",
   "execution_count": null,
   "metadata": {
    "colab": {
     "base_uri": "https://localhost:8080/",
     "height": 606
    },
    "executionInfo": {
     "elapsed": 719,
     "status": "ok",
     "timestamp": 1626397355561,
     "user": {
      "displayName": "Samir Braga Chaves",
      "photoUrl": "https://lh3.googleusercontent.com/a-/AOh14GjVygv2wdXo0c9CF7F3Cexb6uLNuruAVewQW9Sohw=s64",
      "userId": "16825804541748131911"
     },
     "user_tz": 180
    },
    "id": "It7iLtZZAVvM",
    "outputId": "1e464b07-f356-4c51-804a-38f64bd7626e"
   },
   "outputs": [],
   "source": [
    "utils.plot_errors_densities_by_model(best_regression_models, X_test_reg, y_test_reg)"
   ]
  },
  {
   "cell_type": "markdown",
   "metadata": {
    "id": "4so3S2Dt93-1"
   },
   "source": [
    "- **Melhor modelo:**\n",
    "\n",
    "> Com os resultados do gráfico acima, claramente o modelo com melhor desempenho foi a SVR, por ter ganho em todas as métricas. Com o gráfico abaixo, podemos ver que o SVR foi capaz de reproduzir boa parte da distribuição original dos dados, exceto para os *outliers*. Também é importante notar que mesmo com vários *outliers* presentes nos dados, a distribuição produzida pelo modelo não foi afetada diretamente por eles."
   ]
  },
  {
   "cell_type": "code",
   "execution_count": null,
   "metadata": {
    "colab": {
     "base_uri": "https://localhost:8080/",
     "height": 833
    },
    "executionInfo": {
     "elapsed": 555,
     "status": "ok",
     "timestamp": 1626397356113,
     "user": {
      "displayName": "Samir Braga Chaves",
      "photoUrl": "https://lh3.googleusercontent.com/a-/AOh14GjVygv2wdXo0c9CF7F3Cexb6uLNuruAVewQW9Sohw=s64",
      "userId": "16825804541748131911"
     },
     "user_tz": 180
    },
    "id": "7NGh1aNsLWy-",
    "outputId": "066af29a-4646-45d1-9533-b066d702d2c4"
   },
   "outputs": [],
   "source": [
    "best_regression_model = best_regression_models[\"svr\"]\n",
    "y_pred_reg = best_regression_model.predict(X_test_reg)\n",
    "\n",
    "plot_data = pd.DataFrame([(predict, \"Valor Predito\") for predict in y_pred_reg] + [(real_value, \"Valor Real\") for real_value in y_test_reg], columns=[\"total (R$)\", \"\"])\n",
    "\n",
    "plt.figure(figsize=(8, 14))\n",
    "plt.title('Distribuição dos valores preditos e dos valores reais', fontsize=18)\n",
    "sns.boxplot(x=\"\", y=\"total (R$)\", data=plot_data, palette='RdBu_r');"
   ]
  },
  {
   "cell_type": "markdown",
   "metadata": {
    "id": "KhO8MDY7gp09"
   },
   "source": [
    "### Classificação"
   ]
  },
  {
   "cell_type": "markdown",
   "metadata": {
    "id": "PPpSXeUxwXat"
   },
   "source": [
    "#### Atributo Animal\n",
    "\n",
    "A seguir, plotamos os valores dos escores de cada métrica usada para classificação do atributo `animal`.\n",
    "\n",
    "Podemos ver que todos os modelos foram muito bons (média de 86% para o F1-*score*) , com exceção da Árvore de Decisão, que ficou um pouco abaixo dos demais modelos. Não temos como escolher o melhor modelo, já que os 4 majoritários estão muito bons."
   ]
  },
  {
   "cell_type": "code",
   "execution_count": null,
   "metadata": {
    "colab": {
     "base_uri": "https://localhost:8080/",
     "height": 748
    },
    "executionInfo": {
     "elapsed": 1408,
     "status": "ok",
     "timestamp": 1626397357518,
     "user": {
      "displayName": "Samir Braga Chaves",
      "photoUrl": "https://lh3.googleusercontent.com/a-/AOh14GjVygv2wdXo0c9CF7F3Cexb6uLNuruAVewQW9Sohw=s64",
      "userId": "16825804541748131911"
     },
     "user_tz": 180
    },
    "id": "UIBaBnijT5Pb",
    "outputId": "dde8dd0e-2ec4-4a7d-d495-170776208b52"
   },
   "outputs": [],
   "source": [
    "classif_animal_scores = utils.compute_scores_best_models(X_test_animal,\n",
    "                                                         y_test_animal, \n",
    "                                                         best_classification_animal_models, \n",
    "                                                         metrics=[accuracy_score, precision_score, recall_score, f1_score, log_loss],\n",
    "                                                         metric_names=['acc', 'p', 'r', 'f1', 'bce'])\n",
    "score_data_animal = utils.classification_score_data(classif_animal_scores)\n",
    "\n",
    "utils.plot_histogram_labels(x_label='Model', \n",
    "                            y_label='Score',\n",
    "                            labels=score_data_animal['Score'].to_numpy(), \n",
    "                            hue_label='Metric', \n",
    "                            data=score_data_animal, \n",
    "                            palette='RdBu_r',\n",
    "                            title='Scores por modelo e métrica\\nAtributo=animal', \n",
    "                            ylabel_title='Scores', \n",
    "                            width=14, \n",
    "                            height=12)"
   ]
  },
  {
   "cell_type": "code",
   "execution_count": null,
   "metadata": {
    "colab": {
     "base_uri": "https://localhost:8080/",
     "height": 748
    },
    "executionInfo": {
     "elapsed": 6,
     "status": "ok",
     "timestamp": 1626397357519,
     "user": {
      "displayName": "Samir Braga Chaves",
      "photoUrl": "https://lh3.googleusercontent.com/a-/AOh14GjVygv2wdXo0c9CF7F3Cexb6uLNuruAVewQW9Sohw=s64",
      "userId": "16825804541748131911"
     },
     "user_tz": 180
    },
    "id": "Rsl7kCISSpAM",
    "outputId": "92b8cc31-47d2-45bc-dfff-60ba1bf66903"
   },
   "outputs": [],
   "source": [
    "bce_scores_animal = pd.DataFrame(columns=['Model', 'Score'])\n",
    "\n",
    "for model, scores in classif_animal_scores.items():\n",
    "  bce_scores_animal = bce_scores_animal.append({\n",
    "      'Model': ' '.join(model.split(\"_\")[1:]),\n",
    "      'Score': float('{:.2f}'.format(scores['bce']))\n",
    "  }, ignore_index=True)\n",
    "bce_scores_animal\n",
    "\n",
    "sns.set(style='whitegrid', font_scale=1.3)\n",
    "plt.figure(figsize=(13, 12))\n",
    "sns.barplot(x='Model', y='Score', data=bce_scores_animal, palette='RdYlBu')\n",
    "\n",
    "plt.title('Scores para a BCE\\nAtributo=animal', fontsize=18)\n",
    "plt.xlabel('')\n",
    "plt.ylabel('Scores', fontsize=14)\n",
    "\n",
    "plt.show()"
   ]
  },
  {
   "cell_type": "markdown",
   "metadata": {
    "id": "jB7Xz1Njzo78"
   },
   "source": [
    "- **Matrizes de confusão:**\n",
    "> Uma matriz de confusão é uma tabela usada para descrever a performance de um modelo de classificação. Através de uma matriz de confusão é possível indicar os erros e acertos de um modelo. Uma explicação mais detalhada pode ser encontrada [aqui](https://www.dataschool.io/simple-guide-to-confusion-matrix-terminology/). Basicamente, o que nos interessa são os valores presentes na diagonal secundária da matriz, que indica a quantidade de erros do modelo. \n",
    "\n",
    "  > Abaixo, estão os plots das matrizes de confusão de cada modelo. De acordo com as métricas, o pior modelo foi a Árvore de Decisão. De fato, a matriz de confusão desse modelo mostra que a quantidade de valores preditos erroneamente foi grande. No entanto, os melhores modelos apresentam um padrão: os valores preditos em sua maioria correspondem à classe mais frequente no *dataset*. De certa forma, esse comportamento já era esperado, devido à presença do desbalanceamento das classes visto na Parte 1."
   ]
  },
  {
   "cell_type": "code",
   "execution_count": null,
   "metadata": {
    "colab": {
     "base_uri": "https://localhost:8080/",
     "height": 1000
    },
    "executionInfo": {
     "elapsed": 2166,
     "status": "ok",
     "timestamp": 1626397359681,
     "user": {
      "displayName": "Samir Braga Chaves",
      "photoUrl": "https://lh3.googleusercontent.com/a-/AOh14GjVygv2wdXo0c9CF7F3Cexb6uLNuruAVewQW9Sohw=s64",
      "userId": "16825804541748131911"
     },
     "user_tz": 180
    },
    "id": "z07dNcWNQoPU",
    "outputId": "2c635427-298c-4ced-c443-59c080cb0309"
   },
   "outputs": [],
   "source": [
    "model_names = list(best_classification_animal_models.keys())\n",
    "\n",
    "fig, axs = plt.subplots(3, 2, figsize=(18, 18))\n",
    "fig.suptitle('Matrizes de Confusão\\nAtributo=animal')\n",
    "for index, ax in enumerate(axs.flat):\n",
    "  if index < len(model_names):\n",
    "    plot_confusion_matrix(best_classification_animal_models[model_names[index]], \n",
    "                          X_test_animal, \n",
    "                          y_test_animal, \n",
    "                          display_labels=['not accept', 'accept'], \n",
    "                          cmap='Reds', \n",
    "                          ax=ax,\n",
    "                          values_format='d')\n",
    "    ax.set_title(' '.join(model_names[index].split(\"_\")[1:]))\n",
    "    ax.set_xlabel('Valores Preditos')\n",
    "    ax.set_ylabel('Valores Reais')\n",
    "    ax.grid(False)\n",
    "  else:\n",
    "    ax.set_visible(False)\n",
    "\n",
    "fig.tight_layout()\n",
    "plt.show()"
   ]
  },
  {
   "cell_type": "markdown",
   "metadata": {
    "id": "0_r2tdIo5AhG"
   },
   "source": [
    "####Atributo Furniture\n",
    "\n",
    "A seguir, estão os gráficos das métricas para cada modelo. Os modelos foram muito ruins ao classificar o atributo `furniture `, para isso, consideramos dois fatores principais: \n",
    "\n",
    "1. A classe mais presente no atributo `furniture` é uma classe negativa (`not funished`). As métricas usadas para avaliação do modelo consideram a classe positiva (`funished`). \n",
    "2. Por esse mesmo motivo, o modelo tende a classificar mais os dados para esta classe negativa. Isso será melhor analisado nas visualizações das matrizes de confusão.\n"
   ]
  },
  {
   "cell_type": "code",
   "execution_count": null,
   "metadata": {
    "colab": {
     "base_uri": "https://localhost:8080/",
     "height": 748
    },
    "executionInfo": {
     "elapsed": 8,
     "status": "ok",
     "timestamp": 1626397359682,
     "user": {
      "displayName": "Samir Braga Chaves",
      "photoUrl": "https://lh3.googleusercontent.com/a-/AOh14GjVygv2wdXo0c9CF7F3Cexb6uLNuruAVewQW9Sohw=s64",
      "userId": "16825804541748131911"
     },
     "user_tz": 180
    },
    "id": "FJDHWjPQ6x28",
    "outputId": "84689528-12d0-4abf-f53e-63c7408a9cc4"
   },
   "outputs": [],
   "source": [
    "classif_furniture_scores = utils.compute_scores_best_models(X_test_furniture,\n",
    "                                                   y_test_furniture, \n",
    "                                                   best_classification_furniture_models, \n",
    "                                                   metrics=[accuracy_score, precision_score, recall_score, f1_score, log_loss],\n",
    "                                                   metric_names=['acc', 'p', 'r', 'f1', 'bce'])\n",
    "score_data_furniture = utils.classification_score_data(classif_furniture_scores)\n",
    "\n",
    "utils.plot_histogram_labels(x_label='Model', \n",
    "                            y_label='Score', \n",
    "                            labels=score_data_furniture['Score'].to_numpy(), \n",
    "                            hue_label='Metric', \n",
    "                            data=score_data_furniture, \n",
    "                            palette='RdBu_r',\n",
    "                            title='Scores por modelo e métrica\\nAtributo=furniture', \n",
    "                            ylabel_title='Scores', \n",
    "                            width=14, \n",
    "                            height=12)"
   ]
  },
  {
   "cell_type": "code",
   "execution_count": null,
   "metadata": {
    "colab": {
     "base_uri": "https://localhost:8080/",
     "height": 748
    },
    "executionInfo": {
     "elapsed": 556,
     "status": "ok",
     "timestamp": 1626397360232,
     "user": {
      "displayName": "Samir Braga Chaves",
      "photoUrl": "https://lh3.googleusercontent.com/a-/AOh14GjVygv2wdXo0c9CF7F3Cexb6uLNuruAVewQW9Sohw=s64",
      "userId": "16825804541748131911"
     },
     "user_tz": 180
    },
    "id": "Faqm-idZ6YdK",
    "outputId": "0d45ab63-937d-4cdb-d699-c770203e3861"
   },
   "outputs": [],
   "source": [
    "bce_scores_furniture = pd.DataFrame(columns=['Model', 'Score'])\n",
    "\n",
    "for model, scores in classif_furniture_scores.items():\n",
    "  bce_scores_furniture = bce_scores_furniture.append({\n",
    "      'Model': ' '.join(model.split(\"_\")[1:]),\n",
    "      'Score': float('{:.2f}'.format(scores['bce']))\n",
    "  }, ignore_index=True)\n",
    "bce_scores_furniture\n",
    "\n",
    "sns.set(style='whitegrid', font_scale=1.3)\n",
    "plt.figure(figsize=(13, 12))\n",
    "sns.barplot(x='Model', y='Score', data=bce_scores_furniture, palette='RdYlBu')\n",
    "\n",
    "plt.title('Scores para a BCE\\nAtributo=furniture', fontsize=18)\n",
    "plt.xlabel('')\n",
    "plt.ylabel('Scores', fontsize=14)\n",
    "\n",
    "plt.show()"
   ]
  },
  {
   "cell_type": "markdown",
   "metadata": {
    "id": "fqoeVW9DzqNR"
   },
   "source": [
    "- **Matrizes de confusão:**\n",
    "\n",
    "  > Abaixo, estão os plots das matrizes de confusão de cada modelo. Como visto acima, todos os modelos tiveram um desempenho ruim. Isso se deve ao fato dos dados estarem desbalanceados, onde a classe mais frequente é `not furnished`."
   ]
  },
  {
   "cell_type": "code",
   "execution_count": null,
   "metadata": {
    "colab": {
     "base_uri": "https://localhost:8080/",
     "height": 1000
    },
    "executionInfo": {
     "elapsed": 1460,
     "status": "ok",
     "timestamp": 1626397361688,
     "user": {
      "displayName": "Samir Braga Chaves",
      "photoUrl": "https://lh3.googleusercontent.com/a-/AOh14GjVygv2wdXo0c9CF7F3Cexb6uLNuruAVewQW9Sohw=s64",
      "userId": "16825804541748131911"
     },
     "user_tz": 180
    },
    "id": "1aN1NhrvYQRo",
    "outputId": "85b7f4f9-20c2-408f-87fd-c1a26223ca3a"
   },
   "outputs": [],
   "source": [
    "model_names = list(best_classification_furniture_models.keys())\n",
    "\n",
    "fig, axs = plt.subplots(3, 2, figsize=(18, 18))\n",
    "fig.suptitle('Matrizes de Confusão\\nAtributo=furniture')\n",
    "for index, ax in enumerate(axs.flat):\n",
    "  if index < len(model_names):\n",
    "    plot_confusion_matrix(best_classification_furniture_models[model_names[index]], \n",
    "                          X_test_furniture, \n",
    "                          y_test_furniture, \n",
    "                          display_labels=['not funished', 'funished'], \n",
    "                          cmap='Reds',\n",
    "                          ax=ax,\n",
    "                          values_format='d')\n",
    "    ax.set_title(' '.join(model_names[index].split(\"_\")[1:]))\n",
    "    ax.set_xlabel('Valores Preditos')\n",
    "    ax.set_ylabel('Valores Reais')\n",
    "    ax.grid(False)\n",
    "  else:\n",
    "    ax.set_visible(False)\n",
    "\n",
    "fig.tight_layout()\n",
    "plt.show()"
   ]
  },
  {
   "cell_type": "markdown",
   "metadata": {
    "id": "Kt482z_hgrLn"
   },
   "source": [
    "# Considerações Finais\n",
    "> - **Regressão:**\n",
    "    1. Com relação ao modelo que teve a melhor performance para a tarefa de regressão, vemos que o SVM foi superior em todas as métricas!\n",
    "    2. Por outro lado, o SVM também foi o modelo mais demorado, enquanto a regressão linear e KNN executaram muito mais rápido e tiveram resultados relativamente próximos ao SVM.\n",
    "    3. Por mais que o SVM seja demorado, como a *gridsearch* explorou 48 combinações, e a executação dessa *gridsearch* levou cerca de 578 segundos, isso é aproximadamente 12 segundos por modelo, o que é algo bem satisfatório. Além disso, 10 minutos ainda é um tempo aceitável, portanto, não vemos problemas na utilização da SVM para este problema em específico.\n",
    "    4. Contudo, nem tudo são flores. Mesmo o SVM que é um modelo relativamente robusto, o RMSE ainda ficou acima de 2600, juntamente com a MAE por volta de 1600. Isso mostra que o modelo ainda tem cometido alguns erros bem grandes, o que é algo indesejado para o nosso problema.\n",
    "    5. Quando analisamos a distribuição real dos dados e a distribuição gerada pelo nosso modelo, vemos que para aluguéis pequenos, o modelo conseguiu reproduzir bem a distribuição original. O problema surge quando olhamos para os *outliers*, pois o nosso modelo parou por volta de R$ 20.000, enquanto na distribuição original existem aluguéis acima de R$ 25.000. Mas, isso também é algo positivo, pois mostra que o nosso modelo está resistindo bem aos outliers, sem ser influenciado por eles.\n",
    "    6. Dito isso, acreditamos que os resultados são bastante promissores, mas é interessante termos mais dados de aluguéis altos para melhorar a predição desses valores, de modo que o nosso modelo produza menos erros \"extremos\".\n",
    "\n",
    "> - **Classificação:**\n",
    "     >> De antemão, nas tarefas de classificação binária, para ambos os cenários os dados estavam desbalanceados. Mesmo realizando a estratificação no momento de separar os dados entre treino e teste, os modelos ainda tenderam a acertar as classes mais frequentes.\n",
    "     \n",
    " - **Animal**:\n",
    "      1. Na tarefa de classificar se o imóvel aceita animais ou não, em geral, os modelos foram bem parecidos, com exceção da Árvore de Decisão, que acabou sendo inferior aos demais modelos.\n",
    "      2. Com relação ao tempo de execução, o SVM era o modelo mais lento, entretanto, com a técnica de Bagging Classifier, ele passou a ser o segundo modelo mais lento, perdendo para o KNN, que levou 116 segundos. Contudo, como o KNN executou 60 combinações de parâmetros distintas, isso nos dá cerca de 2 segundos por modelo, já o SVM, mesmo com as otimizações, executou em 97 segundos 32 combinações distintas, ou seja, tivemos em média 3 segundos por modelo.\n",
    "      3. Agora em termos de retorno por tempo de treinamento, tanto a Regressão Logística (com 90 combinações!) quanto o Naive Bayes foram significativamente mais rápidos, e tiveram resultados similares ao KNN e SVM, ou seja, o tempo extra não levou a um ganho proporcional na performance do modelo.\n",
    "      4. Conforme dito, olhando para a matriz de confusão, fica claro que os modelos tem \"priorizado\" casas que aceitam animais, porque com exceção da Árvore de Decisão, os modelos tem predito vários falsos-positivos, ou seja, várias casas que não aceitam animais acabaram sendo classificadas como casas que aceitam animais.\n",
    "      5. Por outro lado, é interessante também observar que a Árvore de Decisão, mesmo tendo sido o modelo com a pior performance, foi a que teve o menor número de falsos-positivos. O problema é que ela acabou também tendo mais falsos-negativos que os outros modelos.\n",
    "      6. Por fim, acreditamos que o desempenho dos modelos na tarefa de classificar se uma casa aceita animais ou não foi bastante promissor. É interessante obtermos mais dados sobre casas que não aceitam animais, visando balancear o dataset. Dessa forma, acreditamos que os modelos terão desempenhos ainda mais satisfatórios!\n",
    "\n",
    " - **Atributo furniture**:\n",
    "      1. Nesse cenário, os modelos acabaram tendo desempenhos um pouco diferentes. Em geral, todos tiveram uma acurácia acima de 70%, entretanto, os modelos tiveram um desempenho ruim nas outras métricas.\n",
    "      2. Com relação aos tempos, o SVM e o KNN também foram os mais demorados para este atributo e, inclusive, demoraram mais do que o treino com o atributo `animal`.\n",
    "      3. Mesmo o SVM e o KNN demorando consideravelmente mais que os demais modelos, não apresentaram ganho proporcional com relação a outro modelo que rodou muito mais rápido, como o Naive Bayes.\n",
    "      4. Novamente, olhando para a matriz de confusão, vemos que os algoritmos também tem priorizado a classe mais frequente, porém, um pouco menos do que aconteceu com o atributo `animal`. \n",
    "      5. Nesse caso, o desempenho dos modelos não foi muito interessante. Mas, novamente, isso também se deve ao fato do *dataset* estar desbalanceado. Estamos um pouco céticos se a melhoria seria tão significativa, entretanto, acreditamos que com um dataset mais balanceado podemos avaliar com mais certeza o desempenho dos modelos na classificação desse atributo.\n"
   ]
  },
  {
   "cell_type": "code",
   "execution_count": null,
   "metadata": {
    "id": "XJeLlcsy2CK6"
   },
   "outputs": [],
   "source": []
  }
 ],
 "metadata": {
  "colab": {
   "collapsed_sections": [],
   "name": "3 - Final Evaluation for Regression and Classification Tasks.ipynb",
   "provenance": [],
   "toc_visible": true
  },
  "kernelspec": {
   "display_name": "Python 3",
   "language": "python",
   "name": "python3"
  },
  "language_info": {
   "codemirror_mode": {
    "name": "ipython",
    "version": 3
   },
   "file_extension": ".py",
   "mimetype": "text/x-python",
   "name": "python",
   "nbconvert_exporter": "python",
   "pygments_lexer": "ipython3",
   "version": "3.8.10"
  }
 },
 "nbformat": 4,
 "nbformat_minor": 1
}
